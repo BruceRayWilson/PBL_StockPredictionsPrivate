{
 "cells": [
  {
   "cell_type": "markdown",
   "metadata": {},
   "source": [
    "# Steps to follow: \n",
    "\n",
    "---installation of packages:\n",
    "\n",
    "!pip install autotrain-advanced\n",
    "\n",
    "!pip install huggingface_hub\n",
    "\n",
    "!autotrain setup --update-torch (optional - needed for Google Colab)\n"
   ]
  },
  {
   "cell_type": "code",
   "execution_count": null,
   "metadata": {},
   "outputs": [],
   "source": [
    "# HuggingFace credentials:\n",
    "from huggingface_hub import notebook_login\n",
    "notebook_login()"
   ]
  },
  {
   "cell_type": "code",
   "execution_count": null,
   "metadata": {},
   "outputs": [],
   "source": [
    "# single line command!\n",
    "autotrain llm --train --project_name Test_002 --model \"facebook/opt-350m\" --data_path master_train_data --use_peft --use_int4 --learning_rate 2e-4 --train_batch_size 15 --num_train_epochs 3 --trainer sft --model_max_length 256 --block_size 256\n"
   ]
  },
  {
   "cell_type": "code",
   "execution_count": null,
   "metadata": {},
   "outputs": [],
   "source": [
    "# single line command!\n",
    "!autotrain llm \n",
    "    --train \n",
    "--project_name Test_001 \n",
    "--model facebook/opt-350m \n",
    "--data_path master_train_data \n",
    "--use_peft --use_int4\n",
    "--learning_rate 2e-4 \n",
    "--train_batch_size 25 \n",
    "--num_train_epochs 3 \n",
    "--trainer sft \n",
    "--model_max_length 256 \n",
    "--block_size 256 > training.log 2>&1 "
   ]
  }
 ],
 "metadata": {
  "language_info": {
   "name": "python"
  }
 },
 "nbformat": 4,
 "nbformat_minor": 2
}
